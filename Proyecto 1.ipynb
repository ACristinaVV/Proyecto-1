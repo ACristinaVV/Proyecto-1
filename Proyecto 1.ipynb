{
 "cells": [
  {
   "cell_type": "markdown",
   "metadata": {},
   "source": [
    "# Optimización de inversión en fondos bancarios"
   ]
  },
  {
   "cell_type": "markdown",
   "metadata": {},
   "source": [
    "# 1. Objetivos"
   ]
  },
  {
   "cell_type": "markdown",
   "metadata": {},
   "source": [
    "### 1.1 Objetivo General\n",
    "\n",
    "El objetivo general del proyecto es generar la mejor estrategia de inversión \n",
    "\n",
    "\n",
    "\n",
    "### 1.2 Objetivos específicos\n",
    "1.2.1 Invertir en 6 diferentes fondos bancarios\n",
    "\n",
    "1.2.2 Maximizar la tasa de retorno de la inversión\n",
    "\n",
    "1.2.3 Cumplir al pie de la letra las restricciones de nuestro cliente "
   ]
  },
  {
   "cell_type": "markdown",
   "metadata": {},
   "source": [
    "# 2. RESOLUCIÓN DEL PROBLEMA"
   ]
  },
  {
   "cell_type": "markdown",
   "metadata": {},
   "source": [
    "## 2.1 Modelo\n",
    "\n",
    "## 2.2 Solución\n",
    "\n",
    "\n",
    "## 2.3 Visualización\n"
   ]
  },
  {
   "cell_type": "markdown",
   "metadata": {},
   "source": [
    "# 3. Conclusiones"
   ]
  }
 ],
 "metadata": {
  "kernelspec": {
   "display_name": "Python 3",
   "language": "python",
   "name": "python3"
  },
  "language_info": {
   "codemirror_mode": {
    "name": "ipython",
    "version": 3
   },
   "file_extension": ".py",
   "mimetype": "text/x-python",
   "name": "python",
   "nbconvert_exporter": "python",
   "pygments_lexer": "ipython3",
   "version": "3.7.1"
  }
 },
 "nbformat": 4,
 "nbformat_minor": 2
}
